{
  "cells": [
    {
      "cell_type": "markdown",
      "metadata": {
        "id": "s0CMfDKTiffl"
      },
      "source": [
        "##  Mise en oeuvre des méthodes d'apprentissage non supervié  (*Implémentation d'un auto-encodeurs variationnels*) ##\n",
        "\n",
        "Dans ce TP, nous allons mettre en oeuvre l'ensemble de la démarche classique en deep learning pour implémenter un auto-encodeur variationnel (VAE). Pour cela nous allons suivre des étapes qui vont du traitement des données, l'entrainement du modèle et le calcul de ses performance à travers des métriques qualitatives et quantitatives. Pour cela, dès lords qu'ils est écrit \"# CODE HERE\", il vous est demandé de remplir les cellules avec votre propre code.\n",
        "Avant de demander de l'aide, reférez-vous à la documentation de la fonction ou de la librairies que vous souhaitez manipuler. C'est le secret de tout développeur !\n",
        "\n",
        "**Jeu de données initial** : Un ensemble d'images représentant le jeu de données Dsprites. Il est composé de N = 737280 images.\n",
        "Ces images ont été procédurallement générées à partir des six facteurs de génération indépendants suivant :\n",
        "* idx_facteur 0 : **Couleur**: blanc\n",
        "* idx_facteur 1 : **Forme** : carré, ellipse, coeur\n",
        "* idx_facteur 2 : **Echelle**: 6 valeurs linéairement espacée dans [0.5, 1]\n",
        "* idx_facteur 3 : **Orientation**: 40 valeurs dans [0, 2 pi]\n",
        "* idx_facteur 4 : **Position sur X**: 32 valeurs dans [0, 1]\n",
        "* idx_facteur 5 : **Position sur Y**: 32 valeurs in [0, 1]\n",
        "\n",
        "**Objectif** : Le but de ce TP est d'entraîner un auto-encodeur variationnel capable de créer de nouvelles instances du jeu de donné d'apprentissage, tout en vérifiant sa capacité de désentrelacement à l'aide d'un latent traversal.\n"
      ]
    },
    {
      "cell_type": "markdown",
      "metadata": {
        "id": "F2XtA-dPr_dK"
      },
      "source": [
        "# I - Chargement et description du jeu de données#\n",
        "\n",
        "Dans cette partie nous allons récupérer et traiter le jeu de données afin de pouvoir l'utiliser pour l'entraînement. Il est nécessaire dans un premier temps de le télécharger en local avant de l'importer sur le Google Collab.\n"
      ]
    },
    {
      "cell_type": "markdown",
      "metadata": {
        "id": "4lbQdpxEouAK"
      },
      "source": [
        "## 1 - Chargement des données et affichage d'un batch aléatoire\n",
        "\n",
        "**Importez le jeu de données dans un tableau numpy.**\n",
        "\n",
        "Téléchargez le fichier \"*dsprites_ndarray_co1sh3sc6or40x32y32_64x64.npz*\" via le github suivant:\n",
        "[Dsprites deep mind](https://github.com/google-deepmind/dsprites-dataset/blob/master/dsprites_ndarray_co1sh3sc6or40x32y32_64x64.npz)\n",
        "\n",
        " Une fois en local sur votre ordinateur, chargez l'ensemble des données grâce à la fonction load() de la librairie.\n"
      ]
    },
    {
      "cell_type": "code",
      "execution_count": 137,
      "metadata": {
        "id": "-XTonSpLuJBi"
      },
      "outputs": [],
      "source": [
        "# importer la librairie numpy que l'on nommera \"np\"\n",
        "\n",
        "import numpy as np\n",
        "\n",
        "# Utiliser la fonction load() de numpy afin de charger les données dans une\n",
        "# variable que vous nommerez \"dataset_zip\".\n",
        "\n",
        "## CODE HERE\n",
        "\n",
        "dataset_zip = np.load(\"dsprites.npz\")\n"
      ]
    },
    {
      "cell_type": "markdown",
      "metadata": {
        "id": "F1J55HE7uik-"
      },
      "source": [
        "Vérifiez le type de la variable dans laquelle vous avez chargé vos données. Y a t-il seulement des images ? Si non, affichez le nom des différents objets que contient votre variable."
      ]
    },
    {
      "cell_type": "code",
      "execution_count": 138,
      "metadata": {
        "colab": {
          "base_uri": "https://localhost:8080/"
        },
        "collapsed": true,
        "id": "MG4haq_dvMjz",
        "outputId": "51e9b476-5ccb-4f34-8d93-8ef8d8591330"
      },
      "outputs": [
        {
          "name": "stdout",
          "output_type": "stream",
          "text": [
            "<class 'numpy.lib.npyio.NpzFile'>\n"
          ]
        }
      ],
      "source": [
        "# Afficher le type de la variable \"dataset_zip\"\n",
        "\n",
        "print(type(dataset_zip))"
      ]
    },
    {
      "cell_type": "code",
      "execution_count": 139,
      "metadata": {
        "colab": {
          "base_uri": "https://localhost:8080/"
        },
        "id": "7x3IYP7hyeGN",
        "outputId": "6c09e742-f048-439a-dd9f-3288be8c2662"
      },
      "outputs": [
        {
          "name": "stdout",
          "output_type": "stream",
          "text": [
            "['metadata', 'imgs', 'latents_classes', 'latents_values']\n"
          ]
        }
      ],
      "source": [
        "# Affichez le nom des différents objets contenus dans votre variable.\n",
        "\n",
        "print(dataset_zip.files)"
      ]
    },
    {
      "cell_type": "markdown",
      "metadata": {
        "id": "LrVDfQK95LnH"
      },
      "source": [
        "Afin de pouvoir entraîner correctement le modèle avec les ressources (de calcul et de temps) à disposition, le jeu de données dois être considérablement réduit. Pour cela, nous n'allons considérer les images composées uniquement de trois facteurs génératifs: la couleur, l'échelle, la position sur x et la position sur y. De ce fait, nous souhaitons \"fixer\" le facteur d'orientation, et uniquement considérer les formes ovales.\n",
        "\n",
        "Pour cela, nous allons dans un premier temps récupérer l'index des images pour lesquelles le facteur d'orientation est à 0, et la facteur de forme à 1.\n",
        "\n",
        "***Indices : ***\n",
        "\n",
        "\n",
        "1.   Comment récupérer la liste composée des valeurs des variables latentes ?  \n",
        "2.   Si l'on considère un unique élément de cette liste, quel sont les deux index sur lesquels vérifier que la condition soit remplie (i.e orientation = 0 et forme = 1) ?\n",
        "3. Comment récupérer l'index des données satisfaisant une condition dans une liste, en python ?\n"
      ]
    },
    {
      "cell_type": "code",
      "execution_count": 140,
      "metadata": {
        "id": "BPRZb93C4pru"
      },
      "outputs": [],
      "source": [
        "# Dans une variable \"idx_ovalnoor\" récupérer l'ensemble des indexs des images qui nous intéressent.\n",
        "\n",
        "idx_ovalnoor = [i for i, j in enumerate(dataset_zip[\"latents_classes\"]) if (j[3] == 0) and (j[1]==1)]"
      ]
    },
    {
      "cell_type": "markdown",
      "metadata": {
        "id": "IKdmbGo9yzGs"
      },
      "source": [
        "**Récupérez l'ensemble des images pour lesquelles l'orientation et la forme sont fixés**\n",
        "\n",
        "Le jeu de données récupéré depuis la source github contient énormément d'informations sur les images, comme la valeur de chaque facteur génératif pour l'image considérée par exemple. Pour cette partie du TP, nous allons considérer uniquement les images."
      ]
    },
    {
      "cell_type": "code",
      "execution_count": 141,
      "metadata": {
        "id": "oZKK1VR8xcjb"
      },
      "outputs": [],
      "source": [
        "# récupérer l'ensemble des images dans une variables \"imgs\", à partir de \"dataset_zip\".\n",
        "# Nous souhaitons conserver uniquement les images pour lesquelles le facteur orientation est à 0 et la forme à 1\n",
        "# c.a.d celles pour lesquelles l'index correspond à ceux récupérés dans la liste idx_ovalnoor.\n",
        "\n",
        "imgs = dataset_zip['imgs'][idx_ovalnoor]"
      ]
    },
    {
      "cell_type": "markdown",
      "metadata": {
        "id": "axEVg_aU6o2b"
      },
      "source": [
        "Dans la variable \"imgs\", les données sont ordonnées selon les facteurs génératifs. Ainsi, il est possible que les 1000\n",
        "premières images représentent toutes des ellipses, etc... Afin de ne pas biaiser l'apprentissage du modèle, il est nécessaire de randomiser l'ordre des images."
      ]
    },
    {
      "cell_type": "code",
      "execution_count": 142,
      "metadata": {
        "id": "5_eEd8_Y7mnL"
      },
      "outputs": [],
      "source": [
        "# Mélanger l'ordre des données\n",
        "\n",
        "np.random.shuffle(imgs)"
      ]
    },
    {
      "cell_type": "markdown",
      "metadata": {
        "id": "0C4DEzTc33mR"
      },
      "source": [
        "**Création de générateurs de données pour le test et l'entraînement**\n",
        "\n",
        "Dans le cadre de ce TP, nous allons implémenter la boucle d'apprentissage. Cela va consister à modifier la valeur des paramètres du réseau en appliquant l'algorithme de rétropropagation après chaque batch.  Un \"batch\" est constitué d'un sous-ensemble d'images à partir desquelles nous allons calculer la fonction de coût. L'erreur qui sera rétropropagée correspond à l'erreur moyenne sur l'ensemble des images de ce batch.\n",
        "Dans ce cadre, il est nécessaire de regrouper les images contenues dans nos tableaux numpy en batch. Nous allons créer pour cela des générateurs, grâce à la classe \"DataLoader\" du framework pytorch. Ces derniers sont des générateurs : ce sont des itérables que l'on peut parcourir à souhait.\n",
        "\n",
        "Dans ce contexte, il est préférable de séparer le jeu de données en deux sous-ensembles :\n",
        "* un jeu d'entraînement qui comporte 70% de l'ensemble des images,\n",
        "* un jeu de test qui contient le reste des données.\n"
      ]
    },
    {
      "cell_type": "code",
      "execution_count": 143,
      "metadata": {
        "colab": {
          "base_uri": "https://localhost:8080/"
        },
        "id": "NEmyWZOG2lqe",
        "outputId": "bf86a5a1-3d5d-42e8-f4ca-c6350f776a4f"
      },
      "outputs": [
        {
          "name": "stdout",
          "output_type": "stream",
          "text": [
            "Nombre d'images pour mon l'ensemble d'entraînement : 4300\n",
            "Nombre d'images pour l'ensemble de test : 1844\n"
          ]
        }
      ],
      "source": [
        "size_train_ds = int(len(imgs)*0.7)\n",
        "size_test_ds = int(len(imgs)*0.3)\n",
        "\n",
        "# créer la variable \"train_data\" qui contient 70% du jeu de données\n",
        "train_imgs = np.array(imgs[:size_train_ds], float)\n",
        "# créer la variable \"test_data\" qui contient 30% du jeu de données\n",
        "\n",
        "test_imgs = np.array(imgs[size_train_ds:], float)\n",
        "\n",
        "# afficher le nombre d'images pour chacun des ensembles d'images\n",
        "\n",
        "print(\"Nombre d'images pour mon l'ensemble d'entraînement :\", np.array(train_imgs).shape[0])\n",
        "print(\"Nombre d'images pour l'ensemble de test :\", np.array(test_imgs).shape[0])"
      ]
    },
    {
      "cell_type": "markdown",
      "metadata": {
        "id": "n8A0EBTF4CQk"
      },
      "source": [
        "Nous allons désormais créer des générateurs à partir des tableaux numpy afin de pouvoir itérer dessus lors de la boucle d'entraînement. Dans un premier temps, nous allons changer le type d'objet que nous manipulons. Cela est nécéssaire car la fonction que nous allons utiliser afin de créer nos générateurs prend en paramètres des données de type \"Dataset\". Pour cela, vous pouvez vous baser sur la classe déjà développées créée dans la cellule ci-dessous.    "
      ]
    },
    {
      "cell_type": "code",
      "execution_count": 144,
      "metadata": {
        "id": "JhFJhUAA602r"
      },
      "outputs": [],
      "source": [
        "import torch\n",
        "from torchvision import transforms\n",
        "from torch.utils.data import Dataset\n",
        "from PIL import Image\n",
        "\n",
        "class MyDataset(Dataset):\n",
        "    def __init__(self, data, transform=None):\n",
        "        self.data = data\n",
        "        self.transform = transform\n",
        "\n",
        "    def __getitem__(self, index):\n",
        "        x = self.data[index]\n",
        "\n",
        "\n",
        "        if self.transform:\n",
        "            x = Image.fromarray(self.data[index].astype(float))\n",
        "            x = self.transform(x)\n",
        "\n",
        "        return x\n",
        "\n",
        "    def __len__(self):\n",
        "        return len(self.data)\n",
        "\n",
        "\n",
        "transform = transforms.Compose([transforms.ToTensor()])"
      ]
    },
    {
      "cell_type": "code",
      "execution_count": 145,
      "metadata": {
        "id": "JYQDfZ2CotXw"
      },
      "outputs": [],
      "source": [
        "from torch.utils.data import DataLoader\n",
        "\n",
        "# Transformez vos données qui sont de type \"np.array\" en instances de \"MyDataset\",\n",
        "# pour le jeu d'entraînement et le jeu de test.\n",
        "\n",
        "train_data =  MyDataset(train_imgs, transform)\n",
        "test_data = MyDataset(test_imgs, transform)"
      ]
    },
    {
      "cell_type": "code",
      "execution_count": 146,
      "metadata": {
        "colab": {
          "base_uri": "https://localhost:8080/"
        },
        "id": "9D95HBP_S16I",
        "outputId": "e60fcd05-ad29-467d-ca62-11232c39ab91"
      },
      "outputs": [
        {
          "name": "stdout",
          "output_type": "stream",
          "text": [
            "Le type du jeu de test avant création de l'itérateur est : <class '__main__.MyDataset'>\n"
          ]
        }
      ],
      "source": [
        "# Affichez le type de votre nouveau jeu d'entraînement et vérifiez que vous obtenez le bon.\n",
        "\n",
        "print(\"Le type du jeu de test avant création de l'itérateur est :\", type(train_data))"
      ]
    },
    {
      "cell_type": "code",
      "execution_count": 147,
      "metadata": {
        "colab": {
          "base_uri": "https://localhost:8080/"
        },
        "id": "LiZoSeMzS8zv",
        "outputId": "56247e1a-e9bc-4dcc-9350-a72843214fa9"
      },
      "outputs": [
        {
          "name": "stdout",
          "output_type": "stream",
          "text": [
            "Le type du jeu d'entraînement avant création de l'itérateur est : <class '__main__.MyDataset'>\n"
          ]
        }
      ],
      "source": [
        "# Affichez le type de votre nouveau jeu de test et vérifiez que vous obtenez le bon.\n",
        "\n",
        "print(\"Le type du jeu d'entraînement avant création de l'itérateur est :\", type(test_data))"
      ]
    },
    {
      "cell_type": "code",
      "execution_count": 148,
      "metadata": {
        "colab": {
          "base_uri": "https://localhost:8080/"
        },
        "id": "h5w4bJlsSmhv",
        "outputId": "c09f393b-0d98-46b5-c57d-7b9eff52d2d2"
      },
      "outputs": [
        {
          "name": "stdout",
          "output_type": "stream",
          "text": [
            "La taille du bacth est : 128\n"
          ]
        }
      ],
      "source": [
        "# Définir une variable \"batch_size\" de valeur 128.\n",
        "\n",
        "batch_size = 128\n",
        "\n",
        "# Créez les générateurs spécifiques aux jeux d'entraînement et de test.\n",
        "# Pour cela, référez-vous à la documentation numpy ci-dessous :\n",
        "# https://pytorch.org/tutorials/beginner/basics/data_tutorial.html\n",
        "# On souhaitera que ces générateurs contiennent des batchs composés de 64\n",
        "# images et qu'ils soient mélangés après chaque epoch\n",
        "\n",
        "## CODE HERE\n",
        "train_gen = DataLoader(dataset=train_data, batch_size=batch_size, shuffle=True )\n",
        "test_gen = DataLoader(dataset=test_data, batch_size=batch_size, shuffle=True )\n",
        "\n",
        "# En utilisant les fonctions next() et iter() de python, affichez la taille\n",
        "# de votre premier batch\n",
        "\n",
        "first_batch = next(iter(test_gen))\n",
        "print(\"La taille du bacth est :\", first_batch.shape[0])"
      ]
    },
    {
      "cell_type": "markdown",
      "metadata": {
        "id": "m-0HYaAYXy8L"
      },
      "source": [
        "**Affichage des images.**\n",
        "\n",
        "Désormais, nous allons vérifier l'ensemble des images que nous venons de récupérer.\n",
        "Afin d'éviter une explosion des valeurs de vos gradients, il est nécessaire que la valeurs des pixels de vos images se trouvent entre 0 et 1. Dans le cas contraire, il est nécéssaire d'appliquer une technique de normalisation sur vos données. Cette vérification est primodiale avant tout entraînement de modèle. Cela vous permettra de vous faire gagner du temps par la suite, en évitant des erreurs facilement évitables.\n"
      ]
    },
    {
      "cell_type": "code",
      "execution_count": 149,
      "metadata": {
        "colab": {
          "base_uri": "https://localhost:8080/",
          "height": 503
        },
        "id": "0Rnp-nAbM85g",
        "outputId": "b312bbd1-90b5-4081-85f1-3e75c28c722d"
      },
      "outputs": [
        {
          "data": {
            "image/png": "[encoded data removed]",
            "text/plain": [
              "<Figure size 1000x1000 with 12 Axes>"
            ]
          },
          "metadata": {},
          "output_type": "display_data"
        }
      ],
      "source": [
        "\n",
        "# importer la bibliothèque nécéssaire pour la création et l'affichage des figures (c.f paragraphe suivant)\n",
        "\n",
        "import matplotlib.pyplot as plt\n",
        "\n",
        "# grâce au framework pyplot de matplotlib, afficher dans une même figure les\n",
        "# douze premières images du jeu de données.\n",
        "# Attention, dans un premier temps il vous sera nécessaire d'importer de façon\n",
        "# adéquate la bibliothèque nécéssaire.\n",
        "\n",
        "train_batch = next(iter(train_gen))\n",
        "\n",
        "fig = plt.figure(figsize=(10,10))\n",
        "fig.suptitle('Batch of images from dataset', fontsize=16)\n",
        "for i in range(12):\n",
        "    plt.subplot(4, 4, i+1)\n",
        "    plt.imshow(np.squeeze(np.float32(train_batch[i])), cmap='gray')\n",
        "    plt.axis('off')\n",
        "plt.show()"
      ]
    },
    {
      "cell_type": "markdown",
      "metadata": {
        "id": "W95YGIy_YGhr"
      },
      "source": [
        "Vérifiez que vos données soient bien mélangées, et que vous ne voyez pas deux images possédant différentes orientations et différentes formes. Voyez-vous uniquement des ovales ? Ont-ils tous bien la même orientation ? Néanmoins, sont-ils de taille et de position différentes ? Vérifions les valeurs maximales et minimales d'un batch aléatoire."
      ]
    },
    {
      "cell_type": "code",
      "execution_count": 150,
      "metadata": {
        "colab": {
          "base_uri": "https://localhost:8080/"
        },
        "id": "4ob5hnJlYVp4",
        "outputId": "68f9da79-41b4-4579-c1f2-b3cc24727c09"
      },
      "outputs": [
        {
          "name": "stdout",
          "output_type": "stream",
          "text": [
            "tensor(1.)\n",
            "tensor(0.)\n"
          ]
        }
      ],
      "source": [
        "print(train_batch.max())\n",
        "print(train_batch.min())"
      ]
    },
    {
      "cell_type": "markdown",
      "metadata": {
        "id": "WQw-dFNeYavU"
      },
      "source": [
        "Les valeurs obtenues sont bien 1.0 et 0.0 ?"
      ]
    },
    {
      "cell_type": "markdown",
      "metadata": {
        "id": "YEc-fuCxsTe-"
      },
      "source": [
        "# II - Création du modèle #\n",
        "\n",
        "Une fois les données récupérées, standardisées et le générateur créé, nous allons désormais créer le modèle d'auto-encodeur variationnel. Pour cela, ce dernier va être décomposé en trois classes : dans un premier temps nous allons définir l'architecture de l'encodeur basé sur des couches de convolutions, l'architecture du décodeur basé sur des couches de déconvolutions, et finalement le VAE dans sa globalité."
      ]
    },
    {
      "cell_type": "code",
      "execution_count": 151,
      "metadata": {
        "id": "NMG3PZIxsfIf"
      },
      "outputs": [],
      "source": [
        "# Import des librairies nécessaires à la création du modèle d'auto-encodeur\n",
        "# variationnel, avec l'aide du framework pytorch.\n",
        "\n",
        "import torch\n",
        "import torch.optim as optim\n",
        "import torch.nn as nn\n",
        "from tqdm import tqdm\n",
        "from torchvision.utils import save_image\n",
        "import torch.nn.functional as F\n",
        "\n",
        "device = torch.device('cuda' if torch.cuda.is_available() else 'cpu')"
      ]
    },
    {
      "cell_type": "code",
      "execution_count": 152,
      "metadata": {
        "id": "KpHlRBCVsT3b"
      },
      "outputs": [],
      "source": [
        "# Créez les variables suivantes :\n",
        "# taille d'une image : img_size\n",
        "# taille du jeu de donnée d'entraînement : data_train_size\n",
        "# taille du jeu de donnée de test : data_test_size\n",
        "# nombre d'epochs (20) : epochs\n",
        "# taille de l'espace latent (10) : latent_size\n",
        "\n",
        "## CODE HERE\n",
        "img_size = first_batch[0].shape\n",
        "data_train_size = int(len(imgs)*0.7)\n",
        "data_test_size = int(len(imgs)*0.3)\n",
        "epochs = 30\n",
        "latent_size = 10"
      ]
    },
    {
      "cell_type": "markdown",
      "metadata": {
        "id": "mDjzDn3Uvtrj"
      },
      "source": [
        "**Création de l'architecture du modèle d'encodage**\n",
        "\n",
        "L'encodeur spécifique à notre entraînement est constitué de quatre couches successives de convolutions suivies de trois couches denses. La première couche prend en paramètre d'entrée le batch considéré. Les deux premières couches de convolutions sont composées de trente-deux filtres de stride deux et de taille de noyeau trois. Les deux couches de convolution suivantes sont composées de soixante-quatre filtres de stride deux et de taille de noyeau trois.\n",
        "La couche dense suivante est composée de 256 neurones et considère en entrée un vecteur de taille (64*4*4), et les deux couches suivantes permettent de sortir la moyenne et la log variance de la distribution de l'espace latent z, chacun faisant la taille de l'espace latent (*ici, nous considérons le logarithme néperien de la variance pour des soucis de stabilisation lors de l'apprentissage*). Pour l'ensemble des couches, mis à part les deux dernières permettant d'obtenir les paramètres de la distribution a-posteriori, la fonction d'activation ReLu est utilisée."
      ]
    },
    {
      "cell_type": "code",
      "execution_count": 153,
      "metadata": {
        "id": "3i9DFxEzsqeP"
      },
      "outputs": [],
      "source": [
        "#@title\n",
        "#Pour DSPRITES\n",
        "# Implémenter l'architecture de l'encodeur selon les informations fournies.\n",
        "# Afin de vous aider, n'oubliez pas de regarder sur internet comment cela est effectué à l'aide de Pytorch.\n",
        "\n",
        "class Encoder(nn.Module):\n",
        "   def __init__(self, latent_size):\n",
        "       super(Encoder, self).__init__()\n",
        "       self.latent_size = latent_size\n",
        "       #CODE HERE\n",
        "\n",
        "       self.Conv1=nn.Conv2d(1,32,kernel_size=3,stride=2, padding=1)\n",
        "       self.Conv2=nn.Conv2d(32,32,3,2, padding=1)\n",
        "       self.Conv3=nn.Conv2d(32,64,3,2, padding=1)\n",
        "       self.Conv4=nn.Conv2d(64,64,3,2, padding=1)\n",
        "\n",
        "       self.Flat=nn.Flatten()\n",
        "\n",
        "       self.Dense1=nn.Linear(64*4*4,256)\n",
        "       self.Mu=nn.Linear(256,latent_size)\n",
        "       self.LogVar=nn.Linear(256,latent_size)\n",
        "\n",
        "   def forward(self, x):\n",
        "\n",
        "      #CODE HERE\n",
        "\n",
        "     conv1=F.relu(self.Conv1(x))\n",
        "     conv2=F.relu(self.Conv2(conv1))\n",
        "     conv3=F.relu(self.Conv3(conv2))\n",
        "     conv4=F.relu(self.Conv4(conv3))\n",
        "     flat=self.Flat(conv4)\n",
        "     dense1=F.relu(self.Dense1(flat))\n",
        "     mu=self.Mu(dense1)\n",
        "     log_var=self.LogVar(dense1)\n",
        "     return mu,log_var"
      ]
    },
    {
      "cell_type": "markdown",
      "metadata": {
        "id": "NKNAW0f9wu3K"
      },
      "source": [
        "**Création de l'architecture du modèle de décodage**\n",
        "\n",
        "Le décodeur est défini par une architecture symmétrique à celle de l'encodeur. Les couches de convolutions considérées correspondent à des déconvolutions afin d'augmenter à chaque étape la taille du paramètre d'entrée. Le modèle considère en entrée un échantillon de l'espace latent, et retourne en sortie une reconstruction du batch.\n",
        "\n",
        "** Indice ** : Pour passer d'une couche Dense à une couche de convolution, il est nécéssaire d'appliquer une couche dite \"Unflatten\" qui permet de modifier la shape d'une couche de neurones dense."
      ]
    },
    {
      "cell_type": "code",
      "execution_count": 154,
      "metadata": {
        "id": "WXcaKcyrstVN"
      },
      "outputs": [],
      "source": [
        "#@title\n",
        "# Pour DSPRITES\n",
        "# Implémenter l'architecture du décodeur selon les informations fournies.\n",
        "# Afin de vous aider, n'oubliez pas de regarder sur internet comment cela est effectué.\n",
        "\n",
        "class Decoder(nn.Module):\n",
        "   def __init__(self, latent_size):\n",
        "       super(Decoder, self).__init__()\n",
        "\n",
        "        #CODE HERE\n",
        "       self.DenseInv=nn.Linear(latent_size,256)\n",
        "       self.Dense2=nn.Linear(256,64*4*4)\n",
        "       self.UnFlatten=nn.Unflatten(dim=1,unflattened_size=(64,4,4))\n",
        "       self.InvConv1=nn.ConvTranspose2d(64,64,2,2)\n",
        "       self.InvConv2=nn.ConvTranspose2d(64,64,2,2)\n",
        "       self.InvConv3=nn.ConvTranspose2d(64,32,2,2)\n",
        "       self.InvConv4=nn.ConvTranspose2d(32,1,2,2)\n",
        "\n",
        "   def forward(self, z):\n",
        "\n",
        "       # CODE HERE\n",
        "       dense1=F.relu(self.DenseInv(z))\n",
        "       dense2=F.relu(self.Dense2(dense1))\n",
        "       unflat = self.UnFlatten(dense2)\n",
        "       invconv1=F.relu(self.InvConv1(unflat))\n",
        "       invconv2=F.relu(self.InvConv2(invconv1))\n",
        "       invconv3=F.relu(self.InvConv3(invconv2))\n",
        "       sortie= torch.sigmoid(self.InvConv4(invconv3))\n",
        "       return sortie"
      ]
    },
    {
      "cell_type": "markdown",
      "metadata": {
        "id": "WRjGpudnyBU-"
      },
      "source": [
        "**Création du modèle de VAE**\n",
        "\n",
        "\n",
        "Une fois l'encodeur et le décodeur implémentés, nous allons les réunir dans une même classe permettant la bonne rétropropagation des gradients. Pour cela, la classe VAE prend en paramètres d'instance l'encodeur, le décodeur et la taille définie pour l'espace latent (*i.e. la variable \"latent_size\"* ).\n",
        "La méthode reparametrize() permet d'appliquer l'astuce de reparamétrisation afin de permettre la rétropropation du gradient (*c.f. cours sur les modèles génératifs*), et la méthode forward() prend en donnée le batch considéré et retourne l'image reconstruite ainsi que les paramètres de moyenne et de log_variance de l'espace latent.\n",
        "\n",
        "***Attention*** : Nous travaillons désormais avec le log de la variance de (z). Il faut donc le prendre en considération dans la technique de reparamétrisation."
      ]
    },
    {
      "cell_type": "code",
      "execution_count": 155,
      "metadata": {
        "id": "uWtAdFhAswpg"
      },
      "outputs": [],
      "source": [
        "from numpy.ma.core import log\n",
        "class VAE(nn.Module):\n",
        "  \"\"\"\n",
        "  \"\"\"\n",
        "  def __init__(self, latent_size, encoder, decoder):\n",
        "    super(VAE, self).__init__()\n",
        "    self.latent_size = latent_size\n",
        "    self.encoder = encoder\n",
        "    self.decoder = decoder\n",
        "\n",
        "  def reparam(self, mu, logvar):\n",
        "    epsilon = torch.normal(0,1, size=mu.shape).to(device) \n",
        "    z = mu + torch.exp(0.5 * logvar) * epsilon\n",
        "    return z\n",
        "\n",
        "  def forward(self, x):\n",
        "    mu, log_var = self.encoder(x)\n",
        "    z = self.reparam(mu, log_var)\n",
        "    reconstructed_img = self.decoder(z)\n",
        "    return reconstructed_img, mu, log_var"
      ]
    },
    {
      "cell_type": "markdown",
      "metadata": {
        "id": "Yj5up2JSujkn"
      },
      "source": [
        "# III - Création de la classe d'apprentissage #\n",
        "\n",
        "La dernière étape avant de lancer l'entraînement du modèle, consiste à implémenter le calcul de la fonction de perte du modèle et d'appliquer l'algorithme de descente de gradient pour la mise à jour des paramètres. Pour cela, la classe Training doit contenir l'ensemble des méthodes permettant de calculer les différents termes de l'ELBO, ainsi qu'une méthode step() qui consiste à mettre à jour les paramètres pour chaque batch. De plus, il faudra également implémenter la méthode train() afin de lancer le processus d'apprentissage sur un nombre d'epochs données.\n",
        "\n",
        "Pour la méthode step(), deux cas sont à considérer :\n",
        "\n",
        "\n",
        "1.   Lorsque l'on souhaite entraîner le jeu de données sur le jeu d'apprentissage, nous allons venir calculer la fonction de coût et appliquer la mise à jour des gradients en fonction de la valeur de cette dernière moyennée sur les données du batch.\n",
        "2.   Lorsque l'on souhaite tester le réseau sur le jeu de données de test, nous souhaitons calculer la valeur de la fonction de coût sans effectuer de rétropropagation. De plus, on souhaite sauvegarder toutes les cinq epochs une figure composée des images reconstruites pour un batch, grâce à la fonction plot_save_img()."
      ]
    },
    {
      "cell_type": "code",
      "execution_count": 156,
      "metadata": {
        "id": "O8xSoysstJkT"
      },
      "outputs": [],
      "source": [
        "class Training():\n",
        "    def __init__(self, model, optimizer):\n",
        "\n",
        "        #CODE HERE\n",
        "        self.model = model\n",
        "        self.optimizer = optimizer\n",
        "\n",
        "    def gaussian_kl(self, mu, logvar):\n",
        "        #CODE HERE\n",
        "        kl = -0.5 * torch.sum(1 + logvar - mu.pow(2) - logvar.exp(), axis=-1)\n",
        "        return torch.mean(kl)\n",
        "\n",
        "    def log_prob(self, batch, decoded_img, sigma=0.02):\n",
        "        #CODE HERE\n",
        "        # sigma est fixé à = 0.02\n",
        "        log_unnormalized = -0.5 * ((decoded_img / sigma) - (batch / sigma))**2\n",
        "        log_normalization = 0.5 * np.log(2. * np.pi) + np.log(sigma)\n",
        "        log_prob = torch.mean(torch.sum(torch.squeeze((log_unnormalized- log_normalization)), [-1, -2]))\n",
        "        return -1*log_prob\n",
        "\n",
        "    def cost_function(self, log_prob, kl):\n",
        "      #CODE HERE\n",
        "      return log_prob + kl\n",
        "\n",
        "    def plot_save_img(self, reconstructed_img, epoch):\n",
        "        #CODE HERE\n",
        "        save_image(reconstructed_img.cpu(), 'reconstructed_img_{}.png'.format(epoch))\n",
        "\n",
        "    def fit(self, model, dataloader):\n",
        "        model.train()\n",
        "        for i, data in tqdm(enumerate(dataloader), total=int(data_train_size/dataloader.batch_size)):\n",
        "          data = data.to(device)\n",
        "          self.optimizer.zero_grad()\n",
        "          reconstructed, mu, logvar = self.model(data)\n",
        "          divergence = self.gaussian_kl(mu, logvar)\n",
        "          recons = self.log_prob(data, reconstructed)\n",
        "          elbo = self.cost_function(recons, divergence)\n",
        "          elbo.backward()\n",
        "          self.optimizer.step()\n",
        "\n",
        "    def validate(self, model, dataloader, epoch):\n",
        "      model.eval()\n",
        "      running_loss = []\n",
        "      kl_loss = []\n",
        "      log_prob = []\n",
        "      with torch.no_grad():\n",
        "          for i, data in tqdm(enumerate(dataloader), total=int(data_test_size/dataloader.batch_size)):\n",
        "              data = data.to(device)\n",
        "              reconstructed, mu, logvar = self.model(data)\n",
        "              divergence = self.gaussian_kl(mu, logvar)\n",
        "              recons = self.log_prob(data, reconstructed)\n",
        "              elbo = self.cost_function(recons, divergence)\n",
        "              running_loss.append(elbo)\n",
        "              kl_loss.append(divergence)\n",
        "              log_prob.append(recons)\n",
        "              self.plot_save_img(reconstructed, epoch)\n",
        "      loss = torch.mean(torch.tensor(running_loss)).cpu().item()\n",
        "      kl = torch.mean(torch.tensor(kl_loss)).cpu().item()\n",
        "      log_prob = torch.mean(torch.tensor(log_prob)).cpu().item()\n",
        "      return loss, kl, log_prob\n",
        "\n",
        "    def train(self, epochs, beta):\n",
        "      loss = []\n",
        "      kl = []\n",
        "      recons = []\n",
        "      for epoch in range(epochs):\n",
        "        self.fit(self.model, train_gen)\n",
        "        loss_test, kl_test, log_prob_test  = self.validate(self.model, test_gen, epoch)\n",
        "        loss.append(loss_test)\n",
        "        kl.append(kl_test)\n",
        "        recons.append(log_prob_test)\n",
        "        template = 'Epoch {}, kl : {},  rec : {}, elbo : {} '\n",
        "        print(template.format(\n",
        "                    epoch,\n",
        "                    kl_test,\n",
        "                    log_prob_test,\n",
        "                    loss_test))\n",
        "\n",
        "      return loss, kl, recons"
      ]
    },
    {
      "cell_type": "markdown",
      "metadata": {
        "id": "uKgku9Wg05Eo"
      },
      "source": [
        "# IV - Lancement de l'apprentissage #\n",
        "\n",
        "Passons désormais à l'étape d'apprentissage! Il nous suffit de créer une instance du modèle, et de la classe d'entraînement, et d'appeler la fonction \"train\". Le plus gros par la suite est... d'attendre !\n",
        "\n",
        "**Instantiation du modèle**\n",
        "\n"
      ]
    },
    {
      "cell_type": "code",
      "execution_count": 157,
      "metadata": {
        "id": "xSuWeET1vhtm"
      },
      "outputs": [],
      "source": [
        "# Créer une variable \"lr\" qui correspond à la taille de la \"learning rate\"\n",
        "# appliquée par l'algorithme d'optimisation lors du processus d'apprentissage.\n",
        "# Cette dernière sera définie à 1e-3.\n",
        "lr = 1e-3\n",
        "# Créer également une variable \"beta\", qui correspond au terme de\n",
        "# ponderation qui sera appliqué au terme de KL-divergence de l'ELBO.\n",
        "# Dans un premier temps, nous allons la définir à 1.\n",
        "\n",
        "# CODE HERE\n",
        "beta=1\n",
        "\n",
        "# Créer une instance du modèle\n",
        "# Attention, il manque les paramètres d'instance.\n",
        "latent_size = 10\n",
        "encoder = Encoder(latent_size)\n",
        "decoder = Decoder(latent_size)\n",
        "model = VAE(latent_size, encoder, decoder).to(device)\n",
        "\n",
        "# Créer une instance de l'algorithme de descente de gradient appliqué pour\n",
        "# la mise à jour des poids\n",
        "\n",
        "optimizer = optim.Adam(model.parameters(), lr=lr)\n",
        "\n",
        "# Créer une instance de la classe d'entraînement\n",
        "\n",
        "#CODE HERE\n",
        "training = Training(model, optimizer)"
      ]
    },
    {
      "cell_type": "markdown",
      "metadata": {
        "id": "mpAb6SCxoDlb"
      },
      "source": [
        "**Visualisation de l'architecture**\n",
        "\n",
        "Une fois nos instances créées, il est possible de visualiser l'architecture définie pour l'encodeur et le décodeur grâce à la fonction summary() de la librairie torchsummary."
      ]
    },
    {
      "cell_type": "code",
      "execution_count": 158,
      "metadata": {
        "colab": {
          "base_uri": "https://localhost:8080/"
        },
        "id": "Xg2m9-FnogfD",
        "outputId": "9dc4c539-6455-4c09-b536-ae3dbe3d57a3"
      },
      "outputs": [
        {
          "name": "stdout",
          "output_type": "stream",
          "text": [
            "==========================================================================================\n",
            "Layer (type:depth-idx)                   Output Shape              Param #\n",
            "==========================================================================================\n",
            "├─Conv2d: 1-1                            [-1, 32, 32, 32]          320\n",
            "├─Conv2d: 1-2                            [-1, 32, 16, 16]          9,248\n",
            "├─Conv2d: 1-3                            [-1, 64, 8, 8]            18,496\n",
            "├─Conv2d: 1-4                            [-1, 64, 4, 4]            36,928\n",
            "├─Flatten: 1-5                           [-1, 1024]                --\n",
            "├─Linear: 1-6                            [-1, 256]                 262,400\n",
            "├─Linear: 1-7                            [-1, 10]                  2,570\n",
            "├─Linear: 1-8                            [-1, 10]                  2,570\n",
            "==========================================================================================\n",
            "Total params: 332,532\n",
            "Trainable params: 332,532\n",
            "Non-trainable params: 0\n",
            "Total mult-adds (M): 4.69\n",
            "==========================================================================================\n",
            "Input size (MB): 0.02\n",
            "Forward/backward pass size (MB): 0.35\n",
            "Params size (MB): 1.27\n",
            "Estimated Total Size (MB): 1.64\n",
            "==========================================================================================\n",
            "==========================================================================================\n",
            "Layer (type:depth-idx)                   Output Shape              Param #\n",
            "==========================================================================================\n",
            "├─Conv2d: 1-1                            [-1, 32, 32, 32]          320\n",
            "├─Conv2d: 1-2                            [-1, 32, 16, 16]          9,248\n",
            "├─Conv2d: 1-3                            [-1, 64, 8, 8]            18,496\n",
            "├─Conv2d: 1-4                            [-1, 64, 4, 4]            36,928\n",
            "├─Flatten: 1-5                           [-1, 1024]                --\n",
            "├─Linear: 1-6                            [-1, 256]                 262,400\n",
            "├─Linear: 1-7                            [-1, 10]                  2,570\n",
            "├─Linear: 1-8                            [-1, 10]                  2,570\n",
            "==========================================================================================\n",
            "Total params: 332,532\n",
            "Trainable params: 332,532\n",
            "Non-trainable params: 0\n",
            "Total mult-adds (M): 4.69\n",
            "==========================================================================================\n",
            "Input size (MB): 0.02\n",
            "Forward/backward pass size (MB): 0.35\n",
            "Params size (MB): 1.27\n",
            "Estimated Total Size (MB): 1.64\n",
            "==========================================================================================\n"
          ]
        }
      ],
      "source": [
        "# Importer la librairie nécéssaire\n",
        "from torchsummary import summary\n",
        "#CODE HERE\n",
        "\n",
        "# Visualiser l'architecture de l'encodeur grâce à la méthode summary() de la\n",
        "# librairie \"torchsummary\"\n",
        "\n",
        "#CODE HERE\n",
        "print(summary(model.encoder, (1, 64, 64)))"
      ]
    },
    {
      "cell_type": "code",
      "execution_count": 159,
      "metadata": {
        "colab": {
          "base_uri": "https://localhost:8080/"
        },
        "id": "nwZ8RtMuogJu",
        "outputId": "ec000006-c519-4934-bbd0-9bafa072f05c"
      },
      "outputs": [
        {
          "name": "stdout",
          "output_type": "stream",
          "text": [
            "==========================================================================================\n",
            "Layer (type:depth-idx)                   Output Shape              Param #\n",
            "==========================================================================================\n",
            "├─Linear: 1-1                            [-1, 256]                 2,816\n",
            "├─Linear: 1-2                            [-1, 1024]                263,168\n",
            "├─Unflatten: 1-3                         [-1, 64, 4, 4]            --\n",
            "├─ConvTranspose2d: 1-4                   [-1, 64, 8, 8]            16,448\n",
            "├─ConvTranspose2d: 1-5                   [-1, 64, 16, 16]          16,448\n",
            "├─ConvTranspose2d: 1-6                   [-1, 32, 32, 32]          8,224\n",
            "├─ConvTranspose2d: 1-7                   [-1, 1, 64, 64]           129\n",
            "==========================================================================================\n",
            "Total params: 307,233\n",
            "Trainable params: 307,233\n",
            "Non-trainable params: 0\n",
            "Total mult-adds (M): 14.42\n",
            "==========================================================================================\n",
            "Input size (MB): 0.00\n",
            "Forward/backward pass size (MB): 0.45\n",
            "Params size (MB): 1.17\n",
            "Estimated Total Size (MB): 1.62\n",
            "==========================================================================================\n",
            "==========================================================================================\n",
            "Layer (type:depth-idx)                   Output Shape              Param #\n",
            "==========================================================================================\n",
            "├─Linear: 1-1                            [-1, 256]                 2,816\n",
            "├─Linear: 1-2                            [-1, 1024]                263,168\n",
            "├─Unflatten: 1-3                         [-1, 64, 4, 4]            --\n",
            "├─ConvTranspose2d: 1-4                   [-1, 64, 8, 8]            16,448\n",
            "├─ConvTranspose2d: 1-5                   [-1, 64, 16, 16]          16,448\n",
            "├─ConvTranspose2d: 1-6                   [-1, 32, 32, 32]          8,224\n",
            "├─ConvTranspose2d: 1-7                   [-1, 1, 64, 64]           129\n",
            "==========================================================================================\n",
            "Total params: 307,233\n",
            "Trainable params: 307,233\n",
            "Non-trainable params: 0\n",
            "Total mult-adds (M): 14.42\n",
            "==========================================================================================\n",
            "Input size (MB): 0.00\n",
            "Forward/backward pass size (MB): 0.45\n",
            "Params size (MB): 1.17\n",
            "Estimated Total Size (MB): 1.62\n",
            "==========================================================================================\n"
          ]
        }
      ],
      "source": [
        "# Visualiser l'architecture du décodeur grâce à la méthode summary() de la\n",
        "# librairie \"torchsummary\"\n",
        "\n",
        "print(summary(model.decoder, (10, )))"
      ]
    },
    {
      "cell_type": "markdown",
      "metadata": {
        "id": "QQEcqxkCqmhf"
      },
      "source": [
        "**Lancement de l'apprentissage**\n",
        "\n",
        "Appelons désormais la méthode qui lance l'apprentissage. N'oubliez pas de regarder les images que vous générez lors de la boucle sur les données de test.\n",
        "Si tout va bien, vous devriez une convergence dans la reconstruction des données des les premières epochs."
      ]
    },
    {
      "cell_type": "code",
      "execution_count": 160,
      "metadata": {
        "colab": {
          "base_uri": "https://localhost:8080/"
        },
        "id": "ArbdEGfYqpO9",
        "outputId": "61634abe-bc1a-4234-9073-62fe6198958f"
      },
      "outputs": [
        {
          "name": "stderr",
          "output_type": "stream",
          "text": [
            "34it [00:00, 52.84it/s]                        \n",
            "15it [00:00, 24.33it/s]                        \n"
          ]
        },
        {
          "name": "stdout",
          "output_type": "stream",
          "text": [
            "Epoch 0, kl : 453.1192626953125,  rec : 198607.21875, elbo : 199060.34375 \n"
          ]
        },
        {
          "name": "stderr",
          "output_type": "stream",
          "text": [
            "34it [00:00, 86.60it/s]                        \n",
            "15it [00:00, 16.25it/s]                        \n"
          ]
        },
        {
          "name": "stdout",
          "output_type": "stream",
          "text": [
            "Epoch 1, kl : 93.02536010742188,  rec : 184829.796875, elbo : 184922.8125 \n"
          ]
        },
        {
          "name": "stderr",
          "output_type": "stream",
          "text": [
            "34it [00:00, 87.87it/s]                        \n",
            "15it [00:01, 14.60it/s]                        \n"
          ]
        },
        {
          "name": "stdout",
          "output_type": "stream",
          "text": [
            "Epoch 2, kl : 67.566650390625,  rec : 180944.546875, elbo : 181012.140625 \n"
          ]
        },
        {
          "name": "stderr",
          "output_type": "stream",
          "text": [
            "34it [00:00, 89.30it/s]                        \n",
            "15it [00:01, 13.59it/s]                        \n"
          ]
        },
        {
          "name": "stdout",
          "output_type": "stream",
          "text": [
            "Epoch 3, kl : 63.164920806884766,  rec : 179658.6875, elbo : 179721.859375 \n"
          ]
        },
        {
          "name": "stderr",
          "output_type": "stream",
          "text": [
            "34it [00:00, 86.65it/s]                        \n",
            "15it [00:01, 14.49it/s]                        \n"
          ]
        },
        {
          "name": "stdout",
          "output_type": "stream",
          "text": [
            "Epoch 4, kl : 70.77095031738281,  rec : 179230.921875, elbo : 179301.6875 \n"
          ]
        },
        {
          "name": "stderr",
          "output_type": "stream",
          "text": [
            "34it [00:00, 86.15it/s]                        \n",
            "15it [00:01, 14.25it/s]                        \n"
          ]
        },
        {
          "name": "stdout",
          "output_type": "stream",
          "text": [
            "Epoch 5, kl : 76.98513793945312,  rec : 177895.5, elbo : 177972.484375 \n"
          ]
        },
        {
          "name": "stderr",
          "output_type": "stream",
          "text": [
            "34it [00:00, 86.32it/s]                        \n",
            "15it [00:01, 14.26it/s]                        \n"
          ]
        },
        {
          "name": "stdout",
          "output_type": "stream",
          "text": [
            "Epoch 6, kl : 82.9957504272461,  rec : 177095.109375, elbo : 177178.078125 \n"
          ]
        },
        {
          "name": "stderr",
          "output_type": "stream",
          "text": [
            "34it [00:00, 89.52it/s]                        \n",
            "15it [00:01, 14.05it/s]                        \n"
          ]
        },
        {
          "name": "stdout",
          "output_type": "stream",
          "text": [
            "Epoch 7, kl : 76.44586944580078,  rec : 175890.59375, elbo : 175967.078125 \n"
          ]
        },
        {
          "name": "stderr",
          "output_type": "stream",
          "text": [
            "34it [00:00, 89.11it/s]                        \n",
            "15it [00:00, 15.50it/s]                        \n"
          ]
        },
        {
          "name": "stdout",
          "output_type": "stream",
          "text": [
            "Epoch 8, kl : 87.73554992675781,  rec : 160968.8125, elbo : 161056.53125 \n"
          ]
        },
        {
          "name": "stderr",
          "output_type": "stream",
          "text": [
            "34it [00:00, 85.34it/s]                        \n",
            "15it [00:00, 24.97it/s]                        \n"
          ]
        },
        {
          "name": "stdout",
          "output_type": "stream",
          "text": [
            "Epoch 9, kl : 369.8931884765625,  rec : 103234.1953125, elbo : 103604.078125 \n"
          ]
        },
        {
          "name": "stderr",
          "output_type": "stream",
          "text": [
            "34it [00:00, 88.47it/s]                        \n",
            "15it [00:00, 32.35it/s]                        \n"
          ]
        },
        {
          "name": "stdout",
          "output_type": "stream",
          "text": [
            "Epoch 10, kl : 1080.9927978515625,  rec : 57011.86328125, elbo : 58092.8515625 \n"
          ]
        },
        {
          "name": "stderr",
          "output_type": "stream",
          "text": [
            "34it [00:00, 84.36it/s]                        \n",
            "15it [00:00, 36.00it/s]                        \n"
          ]
        },
        {
          "name": "stdout",
          "output_type": "stream",
          "text": [
            "Epoch 11, kl : 1877.7987060546875,  rec : 17846.341796875, elbo : 19724.142578125 \n"
          ]
        },
        {
          "name": "stderr",
          "output_type": "stream",
          "text": [
            "34it [00:00, 84.96it/s]                        \n",
            "15it [00:00, 36.08it/s]                        \n"
          ]
        },
        {
          "name": "stdout",
          "output_type": "stream",
          "text": [
            "Epoch 12, kl : 1703.4083251953125,  rec : 11761.26953125, elbo : 13464.6787109375 \n"
          ]
        },
        {
          "name": "stderr",
          "output_type": "stream",
          "text": [
            "34it [00:00, 88.46it/s]                        \n",
            "15it [00:00, 37.53it/s]                        \n"
          ]
        },
        {
          "name": "stdout",
          "output_type": "stream",
          "text": [
            "Epoch 13, kl : 1640.3179931640625,  rec : 8343.818359375, elbo : 9984.1357421875 \n"
          ]
        },
        {
          "name": "stderr",
          "output_type": "stream",
          "text": [
            "34it [00:00, 85.12it/s]                        \n",
            "15it [00:00, 38.88it/s]                        \n"
          ]
        },
        {
          "name": "stdout",
          "output_type": "stream",
          "text": [
            "Epoch 14, kl : 1483.0028076171875,  rec : 7968.7109375, elbo : 9451.7138671875 \n"
          ]
        },
        {
          "name": "stderr",
          "output_type": "stream",
          "text": [
            "34it [00:00, 89.10it/s]                        \n",
            "15it [00:00, 37.27it/s]                        \n"
          ]
        },
        {
          "name": "stdout",
          "output_type": "stream",
          "text": [
            "Epoch 15, kl : 1420.5941162109375,  rec : 6351.9912109375, elbo : 7772.5859375 \n"
          ]
        },
        {
          "name": "stderr",
          "output_type": "stream",
          "text": [
            "34it [00:00, 85.52it/s]                        \n",
            "15it [00:00, 38.94it/s]                        \n"
          ]
        },
        {
          "name": "stdout",
          "output_type": "stream",
          "text": [
            "Epoch 16, kl : 1370.9559326171875,  rec : 5692.744140625, elbo : 7063.7001953125 \n"
          ]
        },
        {
          "name": "stderr",
          "output_type": "stream",
          "text": [
            "34it [00:00, 87.67it/s]                        \n",
            "15it [00:00, 36.46it/s]                        \n"
          ]
        },
        {
          "name": "stdout",
          "output_type": "stream",
          "text": [
            "Epoch 17, kl : 1239.872802734375,  rec : 4936.4794921875, elbo : 6176.35205078125 \n"
          ]
        },
        {
          "name": "stderr",
          "output_type": "stream",
          "text": [
            "34it [00:00, 84.99it/s]                        \n",
            "15it [00:00, 38.75it/s]                        \n"
          ]
        },
        {
          "name": "stdout",
          "output_type": "stream",
          "text": [
            "Epoch 18, kl : 1191.6046142578125,  rec : 4710.337890625, elbo : 5901.94287109375 \n"
          ]
        },
        {
          "name": "stderr",
          "output_type": "stream",
          "text": [
            "34it [00:00, 86.18it/s]                        \n",
            "15it [00:00, 38.76it/s]                        \n"
          ]
        },
        {
          "name": "stdout",
          "output_type": "stream",
          "text": [
            "Epoch 19, kl : 1174.7420654296875,  rec : 4452.7236328125, elbo : 5627.46630859375 \n"
          ]
        },
        {
          "name": "stderr",
          "output_type": "stream",
          "text": [
            "34it [00:00, 86.05it/s]                        \n",
            "15it [00:00, 37.31it/s]                        \n"
          ]
        },
        {
          "name": "stdout",
          "output_type": "stream",
          "text": [
            "Epoch 20, kl : 1100.31103515625,  rec : 4738.34716796875, elbo : 5838.65869140625 \n"
          ]
        },
        {
          "name": "stderr",
          "output_type": "stream",
          "text": [
            "34it [00:00, 85.63it/s]                        \n",
            "15it [00:00, 39.00it/s]                        \n"
          ]
        },
        {
          "name": "stdout",
          "output_type": "stream",
          "text": [
            "Epoch 21, kl : 1100.852294921875,  rec : 3755.515625, elbo : 4856.3681640625 \n"
          ]
        },
        {
          "name": "stderr",
          "output_type": "stream",
          "text": [
            "34it [00:00, 85.22it/s]                        \n",
            "15it [00:00, 37.41it/s]                        \n"
          ]
        },
        {
          "name": "stdout",
          "output_type": "stream",
          "text": [
            "Epoch 22, kl : 1046.0260009765625,  rec : 3297.79296875, elbo : 4343.8193359375 \n"
          ]
        },
        {
          "name": "stderr",
          "output_type": "stream",
          "text": [
            "34it [00:00, 86.41it/s]                        \n",
            "15it [00:00, 38.99it/s]                        \n"
          ]
        },
        {
          "name": "stdout",
          "output_type": "stream",
          "text": [
            "Epoch 23, kl : 911.1175537109375,  rec : 5571.47607421875, elbo : 6482.59326171875 \n"
          ]
        },
        {
          "name": "stderr",
          "output_type": "stream",
          "text": [
            "34it [00:00, 85.74it/s]                        \n",
            "15it [00:00, 38.68it/s]                        \n"
          ]
        },
        {
          "name": "stdout",
          "output_type": "stream",
          "text": [
            "Epoch 24, kl : 923.4022827148438,  rec : 3107.397216796875, elbo : 4030.7998046875 \n"
          ]
        },
        {
          "name": "stderr",
          "output_type": "stream",
          "text": [
            "34it [00:00, 89.69it/s]                        \n",
            "15it [00:00, 38.31it/s]                        \n"
          ]
        },
        {
          "name": "stdout",
          "output_type": "stream",
          "text": [
            "Epoch 25, kl : 933.9799194335938,  rec : 4461.7470703125, elbo : 5395.72705078125 \n"
          ]
        },
        {
          "name": "stderr",
          "output_type": "stream",
          "text": [
            "34it [00:00, 87.05it/s]                        \n",
            "15it [00:00, 38.92it/s]                        \n"
          ]
        },
        {
          "name": "stdout",
          "output_type": "stream",
          "text": [
            "Epoch 26, kl : 917.7914428710938,  rec : 3815.40625, elbo : 4733.19775390625 \n"
          ]
        },
        {
          "name": "stderr",
          "output_type": "stream",
          "text": [
            "34it [00:00, 84.83it/s]                        \n",
            "15it [00:00, 37.66it/s]                        \n"
          ]
        },
        {
          "name": "stdout",
          "output_type": "stream",
          "text": [
            "Epoch 27, kl : 810.6704711914062,  rec : 5152.68115234375, elbo : 5963.3515625 \n"
          ]
        },
        {
          "name": "stderr",
          "output_type": "stream",
          "text": [
            "34it [00:00, 89.36it/s]                        \n",
            "15it [00:00, 38.96it/s]                        \n"
          ]
        },
        {
          "name": "stdout",
          "output_type": "stream",
          "text": [
            "Epoch 28, kl : 830.6039428710938,  rec : 3960.4794921875, elbo : 4791.08349609375 \n"
          ]
        },
        {
          "name": "stderr",
          "output_type": "stream",
          "text": [
            "34it [00:00, 88.58it/s]                        \n",
            "15it [00:00, 36.27it/s]                        "
          ]
        },
        {
          "name": "stdout",
          "output_type": "stream",
          "text": [
            "Epoch 29, kl : 833.2593383789062,  rec : 2715.97314453125, elbo : 3549.23291015625 \n"
          ]
        },
        {
          "name": "stderr",
          "output_type": "stream",
          "text": [
            "\n"
          ]
        }
      ],
      "source": [
        "# Lancer l'apprentissage du réseau, selon le nombre d'epochs définies\n",
        "\n",
        "#CODE HERE\n",
        "loss, kl, recons = training.train(epochs, beta)"
      ]
    },
    {
      "cell_type": "markdown",
      "metadata": {
        "id": "dvjuDLKll9zR"
      },
      "source": [
        "# Visualisation des résultats #\n",
        "\n",
        "Pour terminer ce TD, nous allons regarder comment s'est déroulé notre apprentissage. Une première étape consiste à regarder la convergence de la fonction coût. Il est intéréssant également de considérer chacun des termes de façon distinctes. \\\\\n",
        "Pour terminer, nous allons regarder les informations encodées dans chacune des dimension de l'espace latent de façon indépendante, à travers un \"latent traversal\".\n",
        "\n",
        "**Visualisation de la convergence de la fonction coût**\n",
        "\n",
        "Implémenter la fonction \"loss_visualisation()\" qui prend en entrée des tableaux\n",
        "numpy comportant les valeurs considérées pour chaque batch de l'entraînement.\n",
        "Cette fonction permet la création et l'affichage d'une seule figure, sur laquelle trois sous-figures représentent chacune l'évolution de la fonction coût, ou l'évolution de la KL-divergence ou enfin l'évolution de la valeur de reconstruction par batch durant l'apprentissage.\n"
      ]
    },
    {
      "cell_type": "code",
      "execution_count": 161,
      "metadata": {
        "colab": {
          "base_uri": "https://localhost:8080/",
          "height": 172
        },
        "id": "pgjo6fBZvtF3",
        "outputId": "0861b49f-4c46-42dc-bebf-4de42fdd7c69"
      },
      "outputs": [
        {
          "data": {
            "image/png": "[encoded data removed]",
            "text/plain": [
              "<Figure size 2000x500 with 3 Axes>"
            ]
          },
          "metadata": {},
          "output_type": "display_data"
        }
      ],
      "source": [
        "# Imlpémenter une fonction et qui permet la visualisation de la convergence\n",
        "\n",
        "#CODE HERE\n",
        "\n",
        "plt.rcParams['figure.figsize' ] = (20,5)\n",
        "plt.rcParams['figure.autolayout' ] = True\n",
        "plt.rcParams['font.size'] = '16'\n",
        "\n",
        "fig, (ax1, ax2, ax3) = plt.subplots(1, 3)\n",
        "fig.suptitle('Results of VAE loss', size=20)\n",
        "\n",
        "ax1.plot(kl, color='darkorange')\n",
        "ax1.set_title(' kl value' )\n",
        "ax1.set_xlabel(' epoch number' )\n",
        "\n",
        "ax2.plot(recons, color='darkcyan')\n",
        "ax2.set_title(' reconstruction value' )\n",
        "ax2.set_xlabel(' epoch number' )\n",
        "\n",
        "ax3.plot(loss, color='darkcyan')\n",
        "ax3.set_title(' loss value' )\n",
        "ax3.set_xlabel(' epoch number' )\n",
        "\n",
        "plt.savefig(' kl_recon.png' )\n",
        "\n"
      ]
    },
    {
      "cell_type": "markdown",
      "metadata": {
        "id": "Yiv3rK2okkH_"
      },
      "source": [
        "Vérifiez bien que vous obtenez une bonne convergence pour la fonction coût. En comparant la valeur de chacun de ses termes, que remarquez vous ? Quelle conclusion pouvez-vous en faire?\n",
        "\n",
        "# AJOUTER VISUALISATION GENERATION ET VISIUALISATION RECONSTRUCTION"
      ]
    },
    {
      "cell_type": "markdown",
      "metadata": {
        "id": "jqOC9MyOkNwS"
      },
      "source": [
        "**Visualisation de la capacité de désentrelacement du modèle**\n",
        "\n",
        "Implémenter une fonction \"latent_traversal()\". Cette dernière prend en paramètre d'entrée une image, ainsi que le modèle entraîné. Elle doit être capable de  créer une figure, dans laquelle on va retrouver l'impact de la modification  de la valeur de la moyenne inferrée pour chaque dimension, en allant de -2 à +2. Concernant cette méthode, réfléchisser bien à chacune des étapes nécéssaire à la visualisation, et la rééelle signification de la métrique."
      ]
    },
    {
      "cell_type": "code",
      "execution_count": 162,
      "metadata": {
        "id": "noK6iunmrLEO"
      },
      "outputs": [],
      "source": [
        "# Implémenter la fonction latent_traversal()\n",
        "\n",
        "def latent_traversal(model, image, latent_size):\n",
        "    learned_mean, learned_var = model.encoder(image)\n",
        "    gen_img_list = np.empty((0,7,1, image.shape[0],image.shape[-1], image.shape[-1]))\n",
        "    for i in range(latent_size):\n",
        "      generated_img = np.empty((0,1,image.shape[0], image.shape[-1], image.shape[-1]))\n",
        "      learned_mean_init = learned_mean.detach().numpy()[0][i]\n",
        "      for j in np.linspace(-10, 10,7):\n",
        "          learned_mean.detach().numpy()[0][i] = learned_mean_init + j\n",
        "          z_rep = model.reparam(learned_mean, learned_var)\n",
        "          img_mean = model.decoder(z_rep).detach().numpy()\n",
        "          generated_img = np.append(generated_img, [img_mean], axis=0)\n",
        "      gen_img_list = np.append(gen_img_list, [generated_img], axis=0)\n",
        "\n",
        "    fig, axs = plt.subplots(nrows=7, ncols=10)\n",
        "    fig_size = plt.gcf().get_size_inches() # Get current size\n",
        "    sizefactor =2 # Set a zoom factor\n",
        "    # Modify the current size by the factor\n",
        "    plt.gcf().set_size_inches(sizefactor * fig_size)\n",
        "    fig.suptitle('Visualisation of latent space', fontsize=25)\n",
        "    axs[2,0].set_ylabel('-3 --------------------- mean latent traversal ----------------- +3', fontsize=15)\n",
        "    for i in range(latent_size):\n",
        "        for j in range(7):\n",
        "            axs[0,i].set_title(\"lat : \" + str(i), fontsize=15)\n",
        "            axs[j,i].imshow(gen_img_list[i,j,0,0,:,:],  cmap='gray')\n",
        "            plt.setp(axs[j,i].get_xticklabels(), visible=False)\n",
        "            plt.setp(axs[j,i].get_yticklabels(), visible=False)\n",
        "            axs[j,i].tick_params(axis='both', which='both', length=0)\n",
        "    plt.show()\n"
      ]
    },
    {
      "cell_type": "code",
      "execution_count": 163,
      "metadata": {
        "colab": {
          "base_uri": "https://localhost:8080/",
          "height": 188
        },
        "id": "cNt03jxLuXUe",
        "outputId": "b9f41494-e989-4535-f4eb-cd085306d34e"
      },
      "outputs": [
        {
          "ename": "RuntimeError",
          "evalue": "Expected all tensors to be on the same device, but found at least two devices, cpu and cuda:0! (when checking argument for argument weight in method wrapper_CUDA___slow_conv2d_forward)",
          "output_type": "error",
          "traceback": [
            "\u001b[1;31m---------------------------------------------------------------------------\u001b[0m",
            "\u001b[1;31mRuntimeError\u001b[0m                              Traceback (most recent call last)",
            "\u001b[1;32mc:\\Users\\Thithoune\\Documents\\TP VAE\\VAE_correction.ipynb Cell 50\u001b[0m line \u001b[0;36m5\n\u001b[0;32m      <a href='vscode-notebook-cell:/c%3A/Users/Thithoune/Documents/TP%20VAE/VAE_correction.ipynb#Y100sZmlsZQ%3D%3D?line=0'>1</a>\u001b[0m \u001b[39m# Lancer un latent traversal afin de visualiser la capacité de désentrelacement\u001b[39;00m\n\u001b[0;32m      <a href='vscode-notebook-cell:/c%3A/Users/Thithoune/Documents/TP%20VAE/VAE_correction.ipynb#Y100sZmlsZQ%3D%3D?line=1'>2</a>\u001b[0m \u001b[39m# de votre modèle\u001b[39;00m\n\u001b[0;32m      <a href='vscode-notebook-cell:/c%3A/Users/Thithoune/Documents/TP%20VAE/VAE_correction.ipynb#Y100sZmlsZQ%3D%3D?line=2'>3</a>\u001b[0m \n\u001b[0;32m      <a href='vscode-notebook-cell:/c%3A/Users/Thithoune/Documents/TP%20VAE/VAE_correction.ipynb#Y100sZmlsZQ%3D%3D?line=3'>4</a>\u001b[0m \u001b[39m#CODE HERE\u001b[39;00m\n\u001b[1;32m----> <a href='vscode-notebook-cell:/c%3A/Users/Thithoune/Documents/TP%20VAE/VAE_correction.ipynb#Y100sZmlsZQ%3D%3D?line=4'>5</a>\u001b[0m latent_traversal(model, torch\u001b[39m.\u001b[39;49munsqueeze(first_batch[\u001b[39m0\u001b[39;49m],\u001b[39m0\u001b[39;49m), latent_size)\n",
            "\u001b[1;32mc:\\Users\\Thithoune\\Documents\\TP VAE\\VAE_correction.ipynb Cell 50\u001b[0m line \u001b[0;36m4\n\u001b[0;32m      <a href='vscode-notebook-cell:/c%3A/Users/Thithoune/Documents/TP%20VAE/VAE_correction.ipynb#Y100sZmlsZQ%3D%3D?line=2'>3</a>\u001b[0m \u001b[39mdef\u001b[39;00m \u001b[39mlatent_traversal\u001b[39m(model, image, latent_size):\n\u001b[1;32m----> <a href='vscode-notebook-cell:/c%3A/Users/Thithoune/Documents/TP%20VAE/VAE_correction.ipynb#Y100sZmlsZQ%3D%3D?line=3'>4</a>\u001b[0m     learned_mean, learned_var \u001b[39m=\u001b[39m model\u001b[39m.\u001b[39;49mencoder(image)\n\u001b[0;32m      <a href='vscode-notebook-cell:/c%3A/Users/Thithoune/Documents/TP%20VAE/VAE_correction.ipynb#Y100sZmlsZQ%3D%3D?line=4'>5</a>\u001b[0m     gen_img_list \u001b[39m=\u001b[39m np\u001b[39m.\u001b[39mempty((\u001b[39m0\u001b[39m,\u001b[39m7\u001b[39m,\u001b[39m1\u001b[39m, image\u001b[39m.\u001b[39mshape[\u001b[39m0\u001b[39m],image\u001b[39m.\u001b[39mshape[\u001b[39m-\u001b[39m\u001b[39m1\u001b[39m], image\u001b[39m.\u001b[39mshape[\u001b[39m-\u001b[39m\u001b[39m1\u001b[39m]))\n\u001b[0;32m      <a href='vscode-notebook-cell:/c%3A/Users/Thithoune/Documents/TP%20VAE/VAE_correction.ipynb#Y100sZmlsZQ%3D%3D?line=5'>6</a>\u001b[0m     \u001b[39mfor\u001b[39;00m i \u001b[39min\u001b[39;00m \u001b[39mrange\u001b[39m(latent_size):\n",
            "File \u001b[1;32mc:\\Users\\Thithoune\\anaconda3\\envs\\pytorch_env\\Lib\\site-packages\\torch\\nn\\modules\\module.py:1518\u001b[0m, in \u001b[0;36mModule._wrapped_call_impl\u001b[1;34m(self, *args, **kwargs)\u001b[0m\n\u001b[0;32m   1516\u001b[0m     \u001b[39mreturn\u001b[39;00m \u001b[39mself\u001b[39m\u001b[39m.\u001b[39m_compiled_call_impl(\u001b[39m*\u001b[39margs, \u001b[39m*\u001b[39m\u001b[39m*\u001b[39mkwargs)  \u001b[39m# type: ignore[misc]\u001b[39;00m\n\u001b[0;32m   1517\u001b[0m \u001b[39melse\u001b[39;00m:\n\u001b[1;32m-> 1518\u001b[0m     \u001b[39mreturn\u001b[39;00m \u001b[39mself\u001b[39;49m\u001b[39m.\u001b[39;49m_call_impl(\u001b[39m*\u001b[39;49margs, \u001b[39m*\u001b[39;49m\u001b[39m*\u001b[39;49mkwargs)\n",
            "File \u001b[1;32mc:\\Users\\Thithoune\\anaconda3\\envs\\pytorch_env\\Lib\\site-packages\\torch\\nn\\modules\\module.py:1527\u001b[0m, in \u001b[0;36mModule._call_impl\u001b[1;34m(self, *args, **kwargs)\u001b[0m\n\u001b[0;32m   1522\u001b[0m \u001b[39m# If we don't have any hooks, we want to skip the rest of the logic in\u001b[39;00m\n\u001b[0;32m   1523\u001b[0m \u001b[39m# this function, and just call forward.\u001b[39;00m\n\u001b[0;32m   1524\u001b[0m \u001b[39mif\u001b[39;00m \u001b[39mnot\u001b[39;00m (\u001b[39mself\u001b[39m\u001b[39m.\u001b[39m_backward_hooks \u001b[39mor\u001b[39;00m \u001b[39mself\u001b[39m\u001b[39m.\u001b[39m_backward_pre_hooks \u001b[39mor\u001b[39;00m \u001b[39mself\u001b[39m\u001b[39m.\u001b[39m_forward_hooks \u001b[39mor\u001b[39;00m \u001b[39mself\u001b[39m\u001b[39m.\u001b[39m_forward_pre_hooks\n\u001b[0;32m   1525\u001b[0m         \u001b[39mor\u001b[39;00m _global_backward_pre_hooks \u001b[39mor\u001b[39;00m _global_backward_hooks\n\u001b[0;32m   1526\u001b[0m         \u001b[39mor\u001b[39;00m _global_forward_hooks \u001b[39mor\u001b[39;00m _global_forward_pre_hooks):\n\u001b[1;32m-> 1527\u001b[0m     \u001b[39mreturn\u001b[39;00m forward_call(\u001b[39m*\u001b[39;49margs, \u001b[39m*\u001b[39;49m\u001b[39m*\u001b[39;49mkwargs)\n\u001b[0;32m   1529\u001b[0m \u001b[39mtry\u001b[39;00m:\n\u001b[0;32m   1530\u001b[0m     result \u001b[39m=\u001b[39m \u001b[39mNone\u001b[39;00m\n",
            "\u001b[1;32mc:\\Users\\Thithoune\\Documents\\TP VAE\\VAE_correction.ipynb Cell 50\u001b[0m line \u001b[0;36m2\n\u001b[0;32m     <a href='vscode-notebook-cell:/c%3A/Users/Thithoune/Documents/TP%20VAE/VAE_correction.ipynb#Y100sZmlsZQ%3D%3D?line=22'>23</a>\u001b[0m \u001b[39mdef\u001b[39;00m \u001b[39mforward\u001b[39m(\u001b[39mself\u001b[39m, x):\n\u001b[0;32m     <a href='vscode-notebook-cell:/c%3A/Users/Thithoune/Documents/TP%20VAE/VAE_correction.ipynb#Y100sZmlsZQ%3D%3D?line=23'>24</a>\u001b[0m \n\u001b[0;32m     <a href='vscode-notebook-cell:/c%3A/Users/Thithoune/Documents/TP%20VAE/VAE_correction.ipynb#Y100sZmlsZQ%3D%3D?line=24'>25</a>\u001b[0m    \u001b[39m#CODE HERE\u001b[39;00m\n\u001b[1;32m---> <a href='vscode-notebook-cell:/c%3A/Users/Thithoune/Documents/TP%20VAE/VAE_correction.ipynb#Y100sZmlsZQ%3D%3D?line=26'>27</a>\u001b[0m   conv1\u001b[39m=\u001b[39mF\u001b[39m.\u001b[39mrelu(\u001b[39mself\u001b[39;49m\u001b[39m.\u001b[39;49mConv1(x))\n\u001b[0;32m     <a href='vscode-notebook-cell:/c%3A/Users/Thithoune/Documents/TP%20VAE/VAE_correction.ipynb#Y100sZmlsZQ%3D%3D?line=27'>28</a>\u001b[0m   conv2\u001b[39m=\u001b[39mF\u001b[39m.\u001b[39mrelu(\u001b[39mself\u001b[39m\u001b[39m.\u001b[39mConv2(conv1))\n\u001b[0;32m     <a href='vscode-notebook-cell:/c%3A/Users/Thithoune/Documents/TP%20VAE/VAE_correction.ipynb#Y100sZmlsZQ%3D%3D?line=28'>29</a>\u001b[0m   conv3\u001b[39m=\u001b[39mF\u001b[39m.\u001b[39mrelu(\u001b[39mself\u001b[39m\u001b[39m.\u001b[39mConv3(conv2))\n",
            "File \u001b[1;32mc:\\Users\\Thithoune\\anaconda3\\envs\\pytorch_env\\Lib\\site-packages\\torch\\nn\\modules\\module.py:1518\u001b[0m, in \u001b[0;36mModule._wrapped_call_impl\u001b[1;34m(self, *args, **kwargs)\u001b[0m\n\u001b[0;32m   1516\u001b[0m     \u001b[39mreturn\u001b[39;00m \u001b[39mself\u001b[39m\u001b[39m.\u001b[39m_compiled_call_impl(\u001b[39m*\u001b[39margs, \u001b[39m*\u001b[39m\u001b[39m*\u001b[39mkwargs)  \u001b[39m# type: ignore[misc]\u001b[39;00m\n\u001b[0;32m   1517\u001b[0m \u001b[39melse\u001b[39;00m:\n\u001b[1;32m-> 1518\u001b[0m     \u001b[39mreturn\u001b[39;00m \u001b[39mself\u001b[39;49m\u001b[39m.\u001b[39;49m_call_impl(\u001b[39m*\u001b[39;49margs, \u001b[39m*\u001b[39;49m\u001b[39m*\u001b[39;49mkwargs)\n",
            "File \u001b[1;32mc:\\Users\\Thithoune\\anaconda3\\envs\\pytorch_env\\Lib\\site-packages\\torch\\nn\\modules\\module.py:1527\u001b[0m, in \u001b[0;36mModule._call_impl\u001b[1;34m(self, *args, **kwargs)\u001b[0m\n\u001b[0;32m   1522\u001b[0m \u001b[39m# If we don't have any hooks, we want to skip the rest of the logic in\u001b[39;00m\n\u001b[0;32m   1523\u001b[0m \u001b[39m# this function, and just call forward.\u001b[39;00m\n\u001b[0;32m   1524\u001b[0m \u001b[39mif\u001b[39;00m \u001b[39mnot\u001b[39;00m (\u001b[39mself\u001b[39m\u001b[39m.\u001b[39m_backward_hooks \u001b[39mor\u001b[39;00m \u001b[39mself\u001b[39m\u001b[39m.\u001b[39m_backward_pre_hooks \u001b[39mor\u001b[39;00m \u001b[39mself\u001b[39m\u001b[39m.\u001b[39m_forward_hooks \u001b[39mor\u001b[39;00m \u001b[39mself\u001b[39m\u001b[39m.\u001b[39m_forward_pre_hooks\n\u001b[0;32m   1525\u001b[0m         \u001b[39mor\u001b[39;00m _global_backward_pre_hooks \u001b[39mor\u001b[39;00m _global_backward_hooks\n\u001b[0;32m   1526\u001b[0m         \u001b[39mor\u001b[39;00m _global_forward_hooks \u001b[39mor\u001b[39;00m _global_forward_pre_hooks):\n\u001b[1;32m-> 1527\u001b[0m     \u001b[39mreturn\u001b[39;00m forward_call(\u001b[39m*\u001b[39;49margs, \u001b[39m*\u001b[39;49m\u001b[39m*\u001b[39;49mkwargs)\n\u001b[0;32m   1529\u001b[0m \u001b[39mtry\u001b[39;00m:\n\u001b[0;32m   1530\u001b[0m     result \u001b[39m=\u001b[39m \u001b[39mNone\u001b[39;00m\n",
            "File \u001b[1;32mc:\\Users\\Thithoune\\anaconda3\\envs\\pytorch_env\\Lib\\site-packages\\torch\\nn\\modules\\conv.py:460\u001b[0m, in \u001b[0;36mConv2d.forward\u001b[1;34m(self, input)\u001b[0m\n\u001b[0;32m    459\u001b[0m \u001b[39mdef\u001b[39;00m \u001b[39mforward\u001b[39m(\u001b[39mself\u001b[39m, \u001b[39minput\u001b[39m: Tensor) \u001b[39m-\u001b[39m\u001b[39m>\u001b[39m Tensor:\n\u001b[1;32m--> 460\u001b[0m     \u001b[39mreturn\u001b[39;00m \u001b[39mself\u001b[39;49m\u001b[39m.\u001b[39;49m_conv_forward(\u001b[39minput\u001b[39;49m, \u001b[39mself\u001b[39;49m\u001b[39m.\u001b[39;49mweight, \u001b[39mself\u001b[39;49m\u001b[39m.\u001b[39;49mbias)\n",
            "File \u001b[1;32mc:\\Users\\Thithoune\\anaconda3\\envs\\pytorch_env\\Lib\\site-packages\\torch\\nn\\modules\\conv.py:456\u001b[0m, in \u001b[0;36mConv2d._conv_forward\u001b[1;34m(self, input, weight, bias)\u001b[0m\n\u001b[0;32m    452\u001b[0m \u001b[39mif\u001b[39;00m \u001b[39mself\u001b[39m\u001b[39m.\u001b[39mpadding_mode \u001b[39m!=\u001b[39m \u001b[39m'\u001b[39m\u001b[39mzeros\u001b[39m\u001b[39m'\u001b[39m:\n\u001b[0;32m    453\u001b[0m     \u001b[39mreturn\u001b[39;00m F\u001b[39m.\u001b[39mconv2d(F\u001b[39m.\u001b[39mpad(\u001b[39minput\u001b[39m, \u001b[39mself\u001b[39m\u001b[39m.\u001b[39m_reversed_padding_repeated_twice, mode\u001b[39m=\u001b[39m\u001b[39mself\u001b[39m\u001b[39m.\u001b[39mpadding_mode),\n\u001b[0;32m    454\u001b[0m                     weight, bias, \u001b[39mself\u001b[39m\u001b[39m.\u001b[39mstride,\n\u001b[0;32m    455\u001b[0m                     _pair(\u001b[39m0\u001b[39m), \u001b[39mself\u001b[39m\u001b[39m.\u001b[39mdilation, \u001b[39mself\u001b[39m\u001b[39m.\u001b[39mgroups)\n\u001b[1;32m--> 456\u001b[0m \u001b[39mreturn\u001b[39;00m F\u001b[39m.\u001b[39;49mconv2d(\u001b[39minput\u001b[39;49m, weight, bias, \u001b[39mself\u001b[39;49m\u001b[39m.\u001b[39;49mstride,\n\u001b[0;32m    457\u001b[0m                 \u001b[39mself\u001b[39;49m\u001b[39m.\u001b[39;49mpadding, \u001b[39mself\u001b[39;49m\u001b[39m.\u001b[39;49mdilation, \u001b[39mself\u001b[39;49m\u001b[39m.\u001b[39;49mgroups)\n",
            "\u001b[1;31mRuntimeError\u001b[0m: Expected all tensors to be on the same device, but found at least two devices, cpu and cuda:0! (when checking argument for argument weight in method wrapper_CUDA___slow_conv2d_forward)"
          ]
        }
      ],
      "source": [
        "# Lancer un latent traversal afin de visualiser la capacité de désentrelacement\n",
        "# de votre modèle\n",
        "\n",
        "#CODE HERE\n",
        "latent_traversal(model, torch.unsqueeze(first_batch[0],0), latent_size)"
      ]
    },
    {
      "cell_type": "markdown",
      "metadata": {
        "id": "Yj4IA_-aCyB-"
      },
      "source": [
        "Que vous pouvez-vous conclure de la capacité de désentrelacement de votre modèle grâce à l'interprétation du latent traversal ? D'après-vous, qu'est-ce qui pourrait être amélioré ?"
      ]
    },
    {
      "cell_type": "markdown",
      "metadata": {
        "id": "_BpMueUBuJdS"
      },
      "source": [
        "# Pour aller plus loin... #\n",
        "\n",
        "De nombreux articles ont pour objetcif d'améliorer la capacité d'un VAE à produire un espace latent démêlé. Pour cette partie du TD, vous devez vous referrer aux articles cités, et implémenter les différentes parties. N'hésitez pas à me solliciter si vous avez besoin d'aide."
      ]
    },
    {
      "cell_type": "markdown",
      "metadata": {
        "id": "b4gTGWiblZcu"
      },
      "source": [
        "**Beta-VAE modèle**\n",
        "\n",
        "*   Objectif : pondérer d'avantage le terme de KL-divergence dans la fonction coût.\n",
        "*   Article : https://openreview.net/forum?id=Sy2fzU9gl\n"
      ]
    },
    {
      "cell_type": "code",
      "execution_count": null,
      "metadata": {
        "id": "vqwBz2jZuLFt"
      },
      "outputs": [],
      "source": [
        "# Tester avec de nouvelles valeurs de beta, et voir le résultat du désentrelacement obtenu.\n",
        "# Conserver l'ensemble des paramètres préalablement définis pour la création de votre modèle.\n",
        "# Vous pouvez tester avec la valeur de beta \"optimale\" (c.f. cours), et une valeur de beta très grande.\n",
        "\n",
        "# CODE HERE\n"
      ]
    },
    {
      "cell_type": "markdown",
      "metadata": {
        "id": "txnepMehmbet"
      },
      "source": [
        "**Beta-VAE métrique**\n",
        "\n",
        "*   Objectif : quantifier la capacité de désentrelacement du modèle grâce à une métrique quantitative.\n",
        "*   Article : https://openreview.net/forum?id=Sy2fzU9gl\n"
      ]
    },
    {
      "cell_type": "code",
      "execution_count": null,
      "metadata": {
        "id": "kSfQYcH5uxwu"
      },
      "outputs": [],
      "source": [
        "# Implémentez la métrique quantitative de l'article de désentrelacement de l'article précédent,\n",
        "# et comparez quantitativement les différents résultats obtenus pour vos modèles.\n",
        "\n",
        "# CODE HERE"
      ]
    },
    {
      "cell_type": "markdown",
      "metadata": {
        "id": "XePqpNGxmmQ6"
      },
      "source": [
        "**Spatial Broadcast Decoder modèle**\n",
        "\n",
        "*   Objectif : ajouter un biais inhérent à la position de l'objet dans l'image afin de favoriser le désentrelacement dans l'espace latent.\n",
        "*   Article : https://arxiv.org/abs/1901.07017\n"
      ]
    },
    {
      "cell_type": "code",
      "execution_count": null,
      "metadata": {
        "id": "PMoQWqu0DIyk"
      },
      "outputs": [],
      "source": [
        "# Basez vous sur l'article du SBD afin de modifier votre réseau de telle sorte à\n",
        "# créer un \"Spatial Broadcast Décodeur\".\n",
        "# Créez une nouvelle instance de votre modèle et lancez un nouvel apprentissage\n",
        "# avant de regarder les résultats obtenus grâce au latent traversal.\n",
        "# Que pouvez-vous observer ?\n",
        "\n",
        "# CODE HERE"
      ]
    }
  ],
  "metadata": {
    "colab": {
      "collapsed_sections": [
        "s0CMfDKTiffl"
      ],
      "provenance": []
    },
    "kernelspec": {
      "display_name": "Python 3",
      "name": "python3"
    },
    "language_info": {
      "codemirror_mode": {
        "name": "ipython",
        "version": 3
      },
      "file_extension": ".py",
      "mimetype": "text/x-python",
      "name": "python",
      "nbconvert_exporter": "python",
      "pygments_lexer": "ipython3",
      "version": "3.11.5"
    }
  },
  "nbformat": 4,
  "nbformat_minor": 0
}
